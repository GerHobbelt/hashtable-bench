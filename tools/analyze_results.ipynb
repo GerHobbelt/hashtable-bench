{
 "cells": [
  {
   "cell_type": "code",
   "execution_count": null,
   "metadata": {},
   "outputs": [],
   "source": [
    "import numpy as np\n",
    "import pandas as pd\n",
    "import matplotlib.pyplot as plt\n",
    "import os\n",
    "import re\n",
    "import itertools"
   ]
  },
  {
   "cell_type": "code",
   "execution_count": null,
   "metadata": {},
   "outputs": [],
   "source": [
    "tools_dir_path = os.path.abspath('')\n",
    "root_dir_path = os.path.dirname(tools_dir_path)\n",
    "results_dir_path = os.path.join(root_dir_path, 'results')"
   ]
  },
  {
   "cell_type": "code",
   "execution_count": null,
   "metadata": {},
   "outputs": [],
   "source": [
    "cur_data_dir_path = os.path.join(results_dir_path, 'data-3990x')"
   ]
  },
  {
   "cell_type": "code",
   "execution_count": null,
   "metadata": {},
   "outputs": [],
   "source": [
    "filename_list = [f for f in os.listdir(cur_data_dir_path) if os.path.isfile(os.path.join(cur_data_dir_path, f))]\n",
    "data_filename_pattern = re.compile(r'(.+)__(.+)__(.+)__(.+)\\.csv')\n",
    "data_filename_list = []\n",
    "data_filepath_list = []\n",
    "map_name_list = []\n",
    "hash_name_list = []\n",
    "key_name_list = []\n",
    "value_name_list = []\n",
    "# k_v_name_list = []\n",
    "k_v_dict = {}\n",
    "for filename in filename_list:\n",
    "    match_ret = data_filename_pattern.findall(filename)\n",
    "    if match_ret:\n",
    "        data_file_path = os.path.join(cur_data_dir_path, filename)\n",
    "        data_filepath_list.append(data_file_path)\n",
    "        data_filename_list.append(filename)\n",
    "        temp_map_name = match_ret[0][0]\n",
    "        temp_hash_name = match_ret[0][1]\n",
    "        map_name_list.append(temp_map_name)\n",
    "        hash_name_list.append(temp_hash_name)\n",
    "        key_name_list.append(match_ret[0][2])\n",
    "        value_name_list.append(match_ret[0][3])\n",
    "        temp_k_v_name = '<' + match_ret[0][2] + ',' + match_ret[0][3] + '>'\n",
    "        # k_v_name_list.append(temp_k_v_name)\n",
    "        if not temp_k_v_name in k_v_dict:\n",
    "            k_v_dict[temp_k_v_name] = {'data_filepath_list':[], 'hash_name_list':[], 'map_name_list':[]}\n",
    "        k_v_dict[temp_k_v_name]['data_filepath_list'].append(data_file_path)\n",
    "        k_v_dict[temp_k_v_name]['hash_name_list'].append(temp_hash_name)\n",
    "        k_v_dict[temp_k_v_name]['map_name_list'].append(temp_map_name)\n",
    "print(\"total %d data files\" % (len(data_filename_list)))\n",
    "map_name_set = set(map_name_list)\n",
    "hash_name_set = set(hash_name_list)\n",
    "# k_v_name_set = set(k_v_name_list)\n",
    "print(data_filename_list)\n",
    "# print(map_name_list)\n",
    "# print(hash_name_list)\n",
    "# print(key_name_list)\n",
    "# print(value_name_list)\n",
    "print(map_name_set)\n",
    "print(hash_name_set)\n",
    "print(k_v_dict.keys())"
   ]
  },
  {
   "cell_type": "code",
   "execution_count": null,
   "metadata": {},
   "outputs": [],
   "source": [
    "def plot_lines(title, x_arr_list, y_arr_list, label_list, y_axis_label):\n",
    "    fig, ax = plt.subplots(figsize=(8, 6), dpi=300)\n",
    "    fig.suptitle(title, fontsize='small')\n",
    "    assert(len(x_arr_list) == len(y_arr_list))\n",
    "    arr_num = len(x_arr_list)\n",
    "    marker = itertools.cycle(('v','o','^','<','>','s','p','*','+','x','D')) \n",
    "    for i in range(arr_num):\n",
    "        ax.plot(x_arr_list[i], y_arr_list[i], label=label_list[i], marker=next(marker), markersize=3.0, linewidth=1.0)\n",
    "    ax.set_xlabel('element num')\n",
    "    ax.set_ylabel(y_axis_label)\n",
    "    ax.set_yscale('log')\n",
    "    ax.set_xscale('log')\n",
    "    box = ax.get_position()\n",
    "    ax.set_position([box.x0, box.y0 + box.height * 0.1,\n",
    "                 box.width, box.height * 0.9])\n",
    "    fig.legend(loc='lower center', fontsize='xx-small')"
   ]
  },
  {
   "cell_type": "code",
   "execution_count": null,
   "metadata": {},
   "outputs": [],
   "source": [
    "for k_v_name, data_dict in k_v_dict.items():\n",
    "    # print(k_v_name)\n",
    "    data_file_num = len(data_dict['data_filepath_list'])\n",
    "    map_hash_name_list = []\n",
    "    element_num_arr_list = []\n",
    "    construct_time_with_reserve_arr_list = []\n",
    "    construct_time_without_reserve_arr_list = []\n",
    "    hit_without_rehash_lookup_arr_list = []\n",
    "    miss_without_rehash_lookup_arr_list = []\n",
    "    hit_with_rehash_lookup_arr_list = []\n",
    "    miss_with_rehash_lookup_arr_list = []\n",
    "    iterate_arr_list = []\n",
    "    with_final_rehash_construct_arr_list= []\n",
    "    for t in range(data_file_num):\n",
    "        temp_map_hash_name = data_dict['map_name_list'][t] + \",\" + data_dict['hash_name_list'][t]\n",
    "        map_hash_name_list.append(temp_map_hash_name)\n",
    "        temp_data_filepath = data_dict['data_filepath_list'][t]\n",
    "        # print(temp_data_filepath)\n",
    "        temp_data_df = pd.read_csv(temp_data_filepath, sep=',')\n",
    "        temp_data_df = temp_data_df.rename(columns=lambda x: x.strip())\n",
    "        # print(temp_data_df.head())\n",
    "        element_num_arr_list.append(temp_data_df['element_num'])\n",
    "        construct_time_with_reserve_arr_list.append(temp_data_df['avg_construct_time_with_reserve_ns'])\n",
    "        construct_time_without_reserve_arr_list.append(temp_data_df['avg_construct_time_without_reserve_ns'])\n",
    "        hit_without_rehash_lookup_arr_list.append(temp_data_df['avg_hit_without_rehash_lookup_ns'])\n",
    "        miss_without_rehash_lookup_arr_list.append(temp_data_df['avg_miss_without_rehash_lookup_ns'])\n",
    "        hit_with_rehash_lookup_arr_list.append(temp_data_df['avg_hit_with_rehash_lookup_ns'])\n",
    "        miss_with_rehash_lookup_arr_list.append(temp_data_df['avg_miss_with_rehash_lookup_ns'])\n",
    "        iterate_arr_list.append(temp_data_df['avg_iterate_ns'])\n",
    "        with_final_rehash_construct_arr_list.append(temp_data_df['avg_with_final_rehash_construct_ns'])\n",
    "    plot_lines(k_v_name + ', avg_insert_time_with_reserve', element_num_arr_list, construct_time_with_reserve_arr_list, map_hash_name_list, 'ns')\n",
    "    plot_lines(k_v_name + ', avg_insert_time_without_reserve', element_num_arr_list, construct_time_without_reserve_arr_list, map_hash_name_list, 'ns')\n",
    "    plot_lines(k_v_name + ', avg_hit_find_without_rehash', element_num_arr_list, hit_without_rehash_lookup_arr_list, map_hash_name_list, 'ns')\n",
    "    plot_lines(k_v_name + ', avg_miss_find_without_rehash', element_num_arr_list, miss_without_rehash_lookup_arr_list, map_hash_name_list, 'ns')\n",
    "    plot_lines(k_v_name + ', avg_hit_find_with_rehash', element_num_arr_list, hit_with_rehash_lookup_arr_list, map_hash_name_list, 'ns')\n",
    "    plot_lines(k_v_name + ', avg_miss_find_with_rehash', element_num_arr_list, miss_with_rehash_lookup_arr_list, map_hash_name_list, 'ns')\n",
    "    plot_lines(k_v_name + ', avg_iterate', element_num_arr_list, iterate_arr_list, map_hash_name_list, 'ns')\n",
    "    plot_lines(k_v_name + ', avg_construct_time_with_final_rehash', element_num_arr_list, with_final_rehash_construct_arr_list, map_hash_name_list, 'ns')\n"
   ]
  },
  {
   "cell_type": "code",
   "execution_count": null,
   "metadata": {},
   "outputs": [],
   "source": [
    "data_file_num = len(data_filename_list)\n",
    "for k in range(data_file_num):\n",
    "    temp_data_file_path = data_filepath_list[k]\n",
    "    temp_data_df = pd.read_csv(temp_data_file_path, sep=',')\n",
    "    break\n",
    "temp_data_df"
   ]
  },
  {
   "cell_type": "code",
   "execution_count": null,
   "metadata": {},
   "outputs": [],
   "source": []
  }
 ],
 "metadata": {
  "interpreter": {
   "hash": "31f2aee4e71d21fbe5cf8b01ff0e069b9275f58929596ceb00d14d90e3e16cd6"
  },
  "kernelspec": {
   "display_name": "Python 3.8.2 64-bit",
   "language": "python",
   "name": "python3"
  },
  "language_info": {
   "codemirror_mode": {
    "name": "ipython",
    "version": 3
   },
   "file_extension": ".py",
   "mimetype": "text/x-python",
   "name": "python",
   "nbconvert_exporter": "python",
   "pygments_lexer": "ipython3",
   "version": "3.8.2"
  },
  "orig_nbformat": 4
 },
 "nbformat": 4,
 "nbformat_minor": 2
}
